{
 "cells": [
  {
   "cell_type": "code",
   "execution_count": 19,
   "outputs": [],
   "source": [
    "from urllib.request import Request, urlopen\n",
    "from urllib.parse import urlencode\n",
    "from bs4 import BeautifulSoup\n",
    "\n",
    "url = 'https://main.knesset.gov.il/Activity/committees/Women/Pages/CommitteeHarassmentDocs5778.aspx'\n",
    "\n",
    "# retrieve the content of the webpage using the requests library\n",
    "response = requests.get(url)\n",
    "\n",
    "# parse the HTML content of the webpage using BeautifulSoup\n",
    "soup = BeautifulSoup(response.content, 'html.parser')\n",
    "\n",
    "# find all the <a> tags in the HTML content\n",
    "links = soup.find_all('a')\n",
    "\n",
    "# loop through each <a> tag and print the value of the 'href' attribute\n",
    "for link in links:\n",
    "    href = link.get('href')\n",
    "    if href is not None:\n",
    "        print(href)"
   ],
   "metadata": {
    "collapsed": false
   }
  },
  {
   "cell_type": "code",
   "execution_count": 42,
   "outputs": [],
   "source": [
    "# import camelot\n",
    "#\n",
    "file = \"https://main.knesset.gov.il/Activity/committees/Women/HarassmentDocs5778/Woman2.pdf\"\n",
    "# tables = camelot.read_pdf(file)\n",
    "# for table in tables:\n",
    "#     print(table.df)\n",
    "import tabula\n",
    "import os\n",
    "links_5778 = open(\"links_5778\",'r',encoding='utf-8')\n",
    "links=links_5778.readlines()\n",
    "files = [pdf for pdf in [link.split(\"\\t\")[0].replace('\"',' ')[1:-1] for link in links] if pdf[-4:] == \".pdf\" ][:-1]\n",
    "for i,file in enumerate(files,start=1):\n",
    "    tables = tabula.read_pdf(file, pages=\"all\")\n",
    "    folder_name = \"5778\"\n",
    "    if not os.path.isdir(folder_name):\n",
    "        os.mkdir(folder_name)\n",
    "    # iterate over extracted tables and export as excel individually\n",
    "    for j, table in enumerate(tables, start=1):\n",
    "        table.to_excel(os.path.join(folder_name, f\"{i}_table_{j}.xlsx\"), index=False)"
   ],
   "metadata": {
    "collapsed": false
   }
  },
  {
   "cell_type": "markdown",
   "source": [],
   "metadata": {
    "collapsed": false
   }
  },
  {
   "cell_type": "code",
   "execution_count": 2,
   "outputs": [
    {
     "name": "stdout",
     "output_type": "stream",
     "text": [
      "[                       Unnamed: 0                          Unnamed: 1  \\\n",
      "0                             NaN                                 NaN   \n",
      "1                             NaN                                 NaN   \n",
      "2           טלפון נייח 036407875:                 מספר זהות 53293122:   \n",
      "3                             NaN  tbrosh@tauex.tau.ac.il :כתובתדוא\"ל   \n",
      "4   אחריות: ממונה על מניעת הטרדות         שיוך במוסד: איש/ת סגל אקדמי   \n",
      "5                          מיניות                                 NaN   \n",
      "6                             NaN                                 NaN   \n",
      "7                             NaN                                 NaN   \n",
      "8     שעות הכשרה בסמוך למינוי 26:                      שעות הכשרה 50:   \n",
      "9                             NaN                                 NaN   \n",
      "10                            NaN                                 NaN   \n",
      "11                            NaN                                 NaN   \n",
      "12                            NaN                                 NaN   \n",
      "13                            NaN                                 NaN   \n",
      "14                            NaN                                 NaN   \n",
      "\n",
      "                       Unnamed: 2      פרטי הממונים במוסד  \n",
      "0                             NaN            פרטי ממונה 1  \n",
      "1                             NaN            פרטים אישיים  \n",
      "2                 שם משפחה Brosh:          שם פרטי Tamar:  \n",
      "3        תפקיד במוסד: נציבה מרכזת  טלפון נייד 0522777033:  \n",
      "4              למניעת הטרדה מינית                     NaN  \n",
      "5                             NaN                     NaN  \n",
      "6                             NaN     מס' שנים כאחראית 4:  \n",
      "7                             NaN                  הכשרות  \n",
      "8                     גורם מכשיר:          עיקרי ההכשרות:  \n",
      "9                איגוד מרכזי סיוע             מהות התפקיד  \n",
      "10                          מל``ג       הכרת החוק והתקנות  \n",
      "11                     גוף ממשלתי              דרכי מניעה  \n",
      "12                            אחר     אופן הטיפול בתלונות  \n",
      "13  השתלמויות באוניברסיטת תל אביב          לא עברתי הכשרה  \n",
      "14          בשיתוף עם מרכזי הסיוע                     אחר  ,          משך הפעילות )בשעות 0.5:(    היום הבינלאומי למאבק באלימות\n",
      "0  תיאור הפעולה: הרצאה בסימפוזיון  נגד נשים ``מה קרה כשהתלוננתי``\n",
      "1       לרגל היום הבינלאומי למאבק   במסגרת החוג למגדר אינני מבצעת\n",
      "2       באלימות נגד נשים ``מה קרה    רישום ולכן אין להתייחס לכמות\n",
      "3  כשהתלוננתי`` במסגרת החוג למגדר       האנשים שנכחו באולם ולאחוז\n",
      "4      אינני מבצעת רישום ולכן אין                       ההשתתפות.,        מספר משתתפים :   קהל יעד: מכתב לכל הסגלים בדבר  \\\n",
      "0     משך הפעילות )בש  הפעילויות שנעשו והמקרים שטופלו   \n",
      "1    תיאור הפעולה: מכ            בשנה האקדמית תשע``ח.   \n",
      "2   בדבר הפעילויות שנ                             NaN   \n",
      "3     שטופלו בשנה האק                             NaN   \n",
      "4                 NaN                             NaN   \n",
      "5                 NaN                             NaN   \n",
      "6                 NaN                             NaN   \n",
      "7                 NaN                             NaN   \n",
      "8      מספר משתתפים :     קהל יעד: מכתב פתיחת שנה לכל   \n",
      "9     משך הפעילות )בש          הסגלים - העלאת המודעות   \n",
      "10                NaN                  אחוז השתתפות :   \n",
      "\n",
      "     סוג הפעולה: פרסום דיגיטלי      תאריך הפעולה 25/12/2019:  \n",
      "0                          NaN                           NaN  \n",
      "1                          NaN                           NaN  \n",
      "2                          NaN                           NaN  \n",
      "3                          NaN                           NaN  \n",
      "4               אחוז השתתפות :    מבצע/ת הפעילות: גורם פנימי  \n",
      "5                          NaN                  )ממונה, אחר(  \n",
      "6                          NaN                          לה 9  \n",
      "7                          NaN                   פרטי הפעולה  \n",
      "8    סוג הפעולה: פרסום דיגיטלי      תאריך הפעולה 25/10/2018:  \n",
      "9                          NaN                           NaN  \n",
      "10  מבצע/ת הפעילות: גורם פנימי  תיאור הפעולה: מכתב פתיחת שנה  ,           Unnamed: 0                     Unnamed: 1  \\\n",
      "0   מספר משתתפים 70:       קהל יעד: הדרכה לסטודנטים   \n",
      "1  משך הפעילות )בשעו              מביה``ס להיסטוריה   \n",
      "2                NaN              אחוז השתתפות 100:   \n",
      "3                NaN                            NaN   \n",
      "4                NaN                            NaN   \n",
      "5                NaN                            NaN   \n",
      "6     מספר משתתפים :  קהל יעד: במהלך השנה נשלחו לכל   \n",
      "\n",
      "                   Unnamed: 2                    פרטי הפעולה  \n",
      "0  סוג הפעולה: הרצאה פרונטלית       תאריך הפעולה 01/04/2019:  \n",
      "1                         NaN                            NaN  \n",
      "2  מבצע/ת הפעילות: גורם פנימי  תיאור הפעולה: הדרכה לסטודנטים  \n",
      "3                )ממונה, אחר(              מביה``ס להיסטוריה  \n",
      "4                         NaN                          לה 12  \n",
      "5                         NaN                    פרטי הפעולה  \n",
      "6   סוג הפעולה: פרסום דיגיטלי       תאריך הפעולה 01/09/2019:  ]\n"
     ]
    }
   ],
   "source": [
    "print(tables)"
   ],
   "metadata": {
    "collapsed": false
   }
  },
  {
   "cell_type": "code",
   "execution_count": 27,
   "outputs": [],
   "source": [
    "# const results = [\n",
    "#     ['Url', 'Anchor Text', 'External']\n",
    "# ];\n",
    "# var urls = document.getElementsByTagName('a');\n",
    "# for (urlIndex in urls) {\n",
    "#     const url = urls[urlIndex]\n",
    "#     const externalLink = url.host !== window.location.host\n",
    "#     if(url.href && url.href.indexOf('://')!==-1) results.push([url.href, url.text, externalLink]) // url.rel\n",
    "# }\n",
    "# const csvContent = results.map((line)=>{\n",
    "#     return line.map((cell)=>{\n",
    "#         if(typeof(cell)==='boolean') return cell ? 'TRUE': 'FALSE'\n",
    "#         if(!cell) return ''\n",
    "#         let value = cell.replace(/[\\f\\n\\v]*\\n\\s*/g, \"\\n\").replace(/[\\t\\f ]+/g, ' ');\n",
    "#         value = value.replace(/\\t/g, ' ').trim();\n",
    "#         return `\"${value}\"`\n",
    "#     }).join('\\t')\n",
    "# }).join(\"\\n\");\n",
    "# console.log(csvContent)"
   ],
   "metadata": {
    "collapsed": false
   }
  },
  {
   "cell_type": "code",
   "execution_count": 39,
   "outputs": [
    {
     "name": "stdout",
     "output_type": "stream",
     "text": [
      "['https://main.knesset.gov.il/Activity/committees/Women/HarassmentDocs5778/Woman2.pdf', 'https://main.knesset.gov.il/Activity/committees/Women/HarassmentDocs5778/Woman3.pdf', 'https://main.knesset.gov.il/Activity/committees/Women/HarassmentDocs5778/Woman4.pdf', 'https://main.knesset.gov.il/Activity/committees/Women/HarassmentDocs5778/Woman5.pdf', 'https://main.knesset.gov.il/Activity/committees/Women/HarassmentDocs5778/Woman16.pdf', 'https://main.knesset.gov.il/Activity/committees/Women/HarassmentDocs5778/Woman19.pdf', 'https://main.knesset.gov.il/Activity/committees/Women/HarassmentDocs5778/Woman21.pdf', 'https://main.knesset.gov.il/Activity/committees/Women/HarassmentDocs5778/Woman23.pdf', 'https://main.knesset.gov.il/Activity/committees/Women/HarassmentDocs5778/Woman25.pdf', 'https://main.knesset.gov.il/Activity/committees/Women/HarassmentDocs5778/Woman32.pdf', 'https://main.knesset.gov.il/Activity/committees/Women/HarassmentDocs5778/Woman35.pdf', 'https://main.knesset.gov.il/Activity/committees/Women/HarassmentDocs5778/Woman38.pdf', 'https://main.knesset.gov.il/Activity/committees/Women/HarassmentDocs5778/Woman39.pdf', 'https://main.knesset.gov.il/Activity/committees/Women/HarassmentDocs5778/Woman48.pdf', 'https://main.knesset.gov.il/Activity/committees/Women/HarassmentDocs5778/Woman64.pdf', 'https://main.knesset.gov.il/Activity/committees/Women/HarassmentDocs5778/Woman66.pdf', 'https://main.knesset.gov.il/Activity/committees/Women/HarassmentDocs5778/Woman67.pdf', 'https://main.knesset.gov.il/Activity/committees/Women/HarassmentDocs5778/Woman69.pdf', 'https://main.knesset.gov.il/Activity/committees/Women/HarassmentDocs5778/Woman81.pdf', 'https://main.knesset.gov.il/Activity/committees/Women/HarassmentDocs5778/Woman84.pdf', 'https://main.knesset.gov.il/Activity/committees/Women/HarassmentDocs5778/Woman87.pdf', 'https://main.knesset.gov.il/Activity/committees/Women/HarassmentDocs5778/Woman88.pdf', 'https://main.knesset.gov.il/Activity/committees/Women/HarassmentDocs5778/Woman89.pdf', 'https://main.knesset.gov.il/Activity/committees/Women/HarassmentDocs5778/Woman90.pdf', 'https://main.knesset.gov.il/Activity/committees/Women/HarassmentDocs5778/Woman91.pdf', 'https://main.knesset.gov.il/Activity/committees/Women/HarassmentDocs5778/Woman107.pdf', 'https://main.knesset.gov.il/Activity/committees/Women/HarassmentDocs5778/Woman114.pdf', 'https://main.knesset.gov.il/Activity/committees/Women/HarassmentDocs5778/Woman115.pdf']\n"
     ]
    }
   ],
   "source": [
    "# [pdf for pdf in [link.split(\"\\t\")[0] for link in links] if pdf[-4:] == \".PDF\"]\n"
   ],
   "metadata": {
    "collapsed": false
   }
  },
  {
   "cell_type": "code",
   "execution_count": null,
   "outputs": [],
   "source": [],
   "metadata": {
    "collapsed": false
   }
  }
 ],
 "metadata": {
  "kernelspec": {
   "display_name": "Python 3",
   "language": "python",
   "name": "python3"
  },
  "language_info": {
   "codemirror_mode": {
    "name": "ipython",
    "version": 2
   },
   "file_extension": ".py",
   "mimetype": "text/x-python",
   "name": "python",
   "nbconvert_exporter": "python",
   "pygments_lexer": "ipython2",
   "version": "2.7.6"
  }
 },
 "nbformat": 4,
 "nbformat_minor": 0
}
